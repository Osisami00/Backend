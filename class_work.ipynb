{
 "cells": [
  {
   "cell_type": "code",
   "execution_count": 5,
   "id": "da977ebb",
   "metadata": {},
   "outputs": [],
   "source": [
    "import pandas as pd"
   ]
  },
  {
   "cell_type": "markdown",
   "id": "fc4e632d",
   "metadata": {},
   "source": [
    "Class Activity\n",
    "\n",
    "-create a simple class named pet\n",
    "- This class should have features name, species and age\n",
    "- include a function to display the class information\n",
    "- Write a function to celebrate the pet's name"
   ]
  },
  {
   "cell_type": "code",
   "execution_count": null,
   "id": "144ad87d",
   "metadata": {},
   "outputs": [
    {
     "name": "stdout",
     "output_type": "stream",
     "text": [
      "Creating a new pet...\n",
      "Pet Billy has been created!\n"
     ]
    },
    {
     "data": {
      "text/plain": [
       "'Hurray! Billy is a pet!'"
      ]
     },
     "execution_count": 10,
     "metadata": {},
     "output_type": "execute_result"
    }
   ],
   "source": [
    "class Pets:\n",
    "    def __init__(self, name, specie, age):\n",
    "        \"\"\"This class create basic information about pets\"\"\"\n",
    "        print(\"Creating a new pet...\")\n",
    "        self.name = name\n",
    "        self.specie = specie\n",
    "        self.age = age\n",
    "        print(f\"Pet {name} has been created!\")\n",
    "\n",
    "    def celebrate_pet(self):\n",
    "        \"\"\"This function celebrates the pet\"\"\"\n",
    "        return f\"Hurray! {self.name} is a pet!\"\n",
    "\n",
    "\n",
    "billy = Pets(\n",
    "    name = input(\"Enter pet's name: \"),\n",
    "    specie =input(\"Enter pet's specie: \"),\n",
    "    age = input(\"Enter pet's age: \")\n",
    ")\n",
    "\n",
    "# billy =Pets(\"Billy\", \"Dog\", \"2yrs\")\n",
    "\n",
    "Pets.celebrate_pet(billy)\n"
   ]
  },
  {
   "cell_type": "code",
   "execution_count": null,
   "id": "6e1578f4",
   "metadata": {},
   "outputs": [],
   "source": []
  }
 ],
 "metadata": {
  "kernelspec": {
   "display_name": "b_env",
   "language": "python",
   "name": "python3"
  },
  "language_info": {
   "codemirror_mode": {
    "name": "ipython",
    "version": 3
   },
   "file_extension": ".py",
   "mimetype": "text/x-python",
   "name": "python",
   "nbconvert_exporter": "python",
   "pygments_lexer": "ipython3",
   "version": "3.13.6"
  }
 },
 "nbformat": 4,
 "nbformat_minor": 5
}
